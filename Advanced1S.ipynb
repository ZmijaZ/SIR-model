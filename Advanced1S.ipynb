{
 "cells": [
  {
   "cell_type": "code",
   "execution_count": 19,
   "id": "c6862317",
   "metadata": {},
   "outputs": [],
   "source": [
    "import numpy as np\n",
    "from scipy.integrate import odeint\n",
    "from matplotlib import pyplot as plt\n",
    "import random"
   ]
  },
  {
   "cell_type": "code",
   "execution_count": 20,
   "id": "8759699e",
   "metadata": {},
   "outputs": [],
   "source": [
    "S = [100]\n",
    "I = [1]\n",
    "R = [0]\n",
    "\n",
    "t = [0]\n",
    "tend = 500"
   ]
  },
  {
   "cell_type": "code",
   "execution_count": 21,
   "id": "27f65c28",
   "metadata": {},
   "outputs": [],
   "source": [
    "beta = 0.04\n",
    "gamma = 0.01"
   ]
  },
  {
   "cell_type": "code",
   "execution_count": 55,
   "id": "852a598d",
   "metadata": {},
   "outputs": [],
   "source": [
    "while t[-1] < tend and (S[-1] and I[-1] >= 1):\n",
    "    N = S[-1] + I[-1] + R[-1]\n",
    "    \n",
    "    props = [beta*I[-1]*S[-1]/N, gamma*I[-1]]\n",
    "    \n",
    "    prop_sum = sum(props)\n",
    "    \n",
    "    tau = np.random.exponential(scale = 1/prop_sum)\n",
    "    \n",
    "    t.append(t[-1] + tau)\n",
    "    \n",
    "    rand = random.uniform(0, 1)\n",
    "    \n",
    "    #S->I\n",
    "    if rand*prop_sum <= props[0]:\n",
    "        S.append(S[-1] - 1)\n",
    "        I.append(I[-1] + 1)\n",
    "        R.append(R[-1])\n",
    "    #I->R\n",
    "    elif rand*prop_sum > props[0] and rand*prop_sum <= sum(props[:2]):\n",
    "        S.append(S[-1])\n",
    "        I.append(I[-1] - 1)\n",
    "        R.append(R[-1] + 1)"
   ]
  },
  {
   "cell_type": "code",
   "execution_count": 29,
   "id": "8358d55d",
   "metadata": {},
   "outputs": [],
   "source": [
    "def plotS():\n",
    "    f, (ax1, ax2, ax3) = plt.subplots(3)\n",
    "\n",
    "    ax1.set_ylabel(\"S\")\n",
    "    ax2.set_ylabel(\"I\")\n",
    "    ax3.set_ylabel(\"R\")\n",
    "    ax3.set_xlabel(\"t\")\n",
    "\n",
    "    SLine = ax1.plot(t, S)\n",
    "    ILine = ax2.plot(t, I, color = \"orange\")\n",
    "    RLine = ax3.plot(t, R, color = \"green\")\n",
    "    plt.show()"
   ]
  }
 ],
 "metadata": {
  "kernelspec": {
   "display_name": "Python 3 (ipykernel)",
   "language": "python",
   "name": "python3"
  },
  "language_info": {
   "codemirror_mode": {
    "name": "ipython",
    "version": 3
   },
   "file_extension": ".py",
   "mimetype": "text/x-python",
   "name": "python",
   "nbconvert_exporter": "python",
   "pygments_lexer": "ipython3",
   "version": "3.11.6"
  }
 },
 "nbformat": 4,
 "nbformat_minor": 5
}
